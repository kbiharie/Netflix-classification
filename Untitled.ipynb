{
 "cells": [
  {
   "cell_type": "code",
   "execution_count": 1,
   "metadata": {},
   "outputs": [],
   "source": [
    "import cv2\n",
    "import random\n",
    "import torch\n",
    "import json\n",
    "import os\n",
    "import cv2\n",
    "import numpy as np\n",
    "import torchvision"
   ]
  },
  {
   "cell_type": "code",
   "execution_count": 9,
   "metadata": {},
   "outputs": [],
   "source": [
    "resnet18 = torchvision.models.resnet50(pretrained=True)"
   ]
  },
  {
   "cell_type": "code",
   "execution_count": 3,
   "metadata": {},
   "outputs": [],
   "source": [
    "class NetflixDataset(torch.utils.data.Dataset):\n",
    "\n",
    "    def __init__(self, filename, purpose):\n",
    "        self.purpose = purpose\n",
    "        with open(filename) as f:\n",
    "            self.data = json.load(f)[self.purpose]\n",
    "\n",
    "    def __len__(self):\n",
    "        return len(self.data)\n",
    "\n",
    "    def __getitem__(self, id):\n",
    "        image_path = self.data[id][\"path\"]\n",
    "        if not os.path.exists(image_path):\n",
    "            print(image_path, \"does not exist\")\n",
    "\n",
    "        img = cv2.imread(image_path, cv2.IMREAD_COLOR).astype(np.uint8)\n",
    "        w = img.shape[0]\n",
    "        h = img.shape[1]\n",
    "        img = img[int(w/2 - 120):int(w/2 + 120), int(h/2 - 120):int(h/2 + 120)]\n",
    "        if self.purpose == \"train\":\n",
    "            return img\n",
    "        else:\n",
    "            return img, self.data[id][\"show\"]"
   ]
  },
  {
   "cell_type": "code",
   "execution_count": 4,
   "metadata": {},
   "outputs": [],
   "source": [
    "dataset = NetflixDataset(\"../dataset/filenames.json\", \"test\")"
   ]
  },
  {
   "cell_type": "code",
   "execution_count": 5,
   "metadata": {},
   "outputs": [],
   "source": [
    "dataloader = torch.utils.data.DataLoader(dataset, batch_size=32,\n",
    "                        shuffle=True, num_workers=0)"
   ]
  },
  {
   "cell_type": "code",
   "execution_count": 6,
   "metadata": {},
   "outputs": [
    {
     "name": "stdout",
     "output_type": "stream",
     "text": [
      "0\n",
      "torch.Size([30, 240, 240, 3])\n"
     ]
    }
   ],
   "source": [
    "test_input = None\n",
    "for i, (imgs, labels) in enumerate(dataloader):\n",
    "    print(i)\n",
    "    print(imgs.shape)\n",
    "    \n",
    "    test_intput = imgs[0]\n",
    "#     img1 = img1.numpy()\n",
    "    \n",
    "#     cv2.imshow(\"Image\", img1)\n",
    "#     cv2.waitKey(0)\n",
    "\n",
    "    \n",
    "    if i == 0:\n",
    "        break"
   ]
  },
  {
   "cell_type": "code",
   "execution_count": null,
   "metadata": {},
   "outputs": [],
   "source": []
  },
  {
   "cell_type": "code",
   "execution_count": 13,
   "metadata": {},
   "outputs": [
    {
     "name": "stdout",
     "output_type": "stream",
     "text": [
      "tensor([728, 549, 883, 794, 601, 499, 499, 335, 834, 906, 708, 604, 794, 728,\n",
      "        107, 903, 465, 794, 673, 689, 708, 601, 903, 905, 103, 700, 459, 499,\n",
      "        499, 851])\n"
     ]
    }
   ],
   "source": [
    "# Evaluate\n",
    "model = resnet18\n",
    "model.eval()\n",
    "\n",
    "with torch.no_grad():\n",
    "    for i, (imgs, labels) in enumerate(dataloader):\n",
    "        imgs = imgs.permute(0, 3, 1, 2) / 255\n",
    "        outputs = model(imgs)\n",
    "        _, preds = torch.max(outputs, 1)\n",
    "        print(preds)\n",
    "        break\n",
    "        "
   ]
  },
  {
   "cell_type": "code",
   "execution_count": null,
   "metadata": {},
   "outputs": [],
   "source": []
  }
 ],
 "metadata": {
  "kernelspec": {
   "display_name": "Python 3",
   "language": "python",
   "name": "python3"
  },
  "language_info": {
   "codemirror_mode": {
    "name": "ipython",
    "version": 3
   },
   "file_extension": ".py",
   "mimetype": "text/x-python",
   "name": "python",
   "nbconvert_exporter": "python",
   "pygments_lexer": "ipython3",
   "version": "3.8.8"
  }
 },
 "nbformat": 4,
 "nbformat_minor": 4
}
